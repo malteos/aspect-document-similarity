{
  "cells": [
    {
      "cell_type": "markdown",
      "metadata": {
        "pycharm": {}
      },
      "source": "# Demo for Aspect-oriented Similarity between Research Papers\n\n### Download models \u0026 install dependencies"
    },
    {
      "cell_type": "code",
      "execution_count": null,
      "metadata": {
        "pycharm": {}
      },
      "outputs": [],
      "source": "!git clone https://github.com/malteos/aspect-document-similarity.git repo\n%cd repo"
    },
    {
      "cell_type": "code",
      "execution_count": null,
      "metadata": {
        "pycharm": {}
      },
      "outputs": [],
      "source": "# Download models (scibert-scivocab-uncased, trained on first CV fold)\n!mkdir -p models/acl models/cord19\n!wget https://github.com/malteos/aspect-document-similarity/releases/download/1.0/acl_fold-1_scibert-scivocab-uncased.tar.gz    \n!tar -xzvf acl_fold-1_scibert-scivocab-uncased.tar.gz\n!mv scibert-scivocab-uncased models/acl\n\n!wget https://github.com/malteos/aspect-document-similarity/releases/download/1.0/cord19_fold-1_scibert-scivocab-uncased.tar.gz\n!tar -xzvf cord19_fold-1_scibert-scivocab-uncased.tar.gz\n!mv scibert-scivocab-uncased models/cord19\n\n!wget -O models/cord19/scibert-scivocab-uncased/vocab.txt https://github.com/j5bd/w/releases/download/1.0/scibert-vocab.txt\n!cp models/cord19/scibert-scivocab-uncased/vocab.txt models/acl/scibert-scivocab-uncased/vocab.txt"
    },
    {
      "cell_type": "code",
      "execution_count": null,
      "metadata": {
        "pycharm": {}
      },
      "outputs": [],
      "source": "# Install dependencies\n!pip install -r requirements.txt"
    },
    {
      "cell_type": "code",
      "execution_count": 31,
      "metadata": {
        "pycharm": {}
      },
      "outputs": [],
      "source": "from IPython.core.display import display, HTML\nfrom demo_utils import get_prediction"
    },
    {
      "cell_type": "markdown",
      "metadata": {
        "pycharm": {}
      },
      "source": "### Try your own papers\n\n1. Select model (either trained on ACL Anthology or CORD-19)\n2. Select input documents by paper IDs. \n\nAll IDs from [Semantic Scholar API](https://api.semanticscholar.org/) are supported (DOI, ArXiv ID, PubMed ID, ACL ID)\n"
    },
    {
      "cell_type": "code",
      "execution_count": 2,
      "metadata": {
        "pycharm": {}
      },
      "outputs": [],
      "source": "selected_model \u003d \u0027acl\u0027  #@param [\"acl\", \"cord19\"]\nfrom_id \u003d \u002710.3115/1667583.1667640\u0027 #@param {type:\"string\"}\nto_id \u003d \u002710.1145/1367497.1367545\u0027 #@param {type:\"string\"}"
    },
    {
      "cell_type": "code",
      "execution_count": 15,
      "metadata": {
        "pycharm": {}
      },
      "outputs": [],
      "source": "# Perform predictions\npred_scores, pred_labels, from_doc, to_doc \u003d get_prediction(f\u0027./models/{selected_model}/scibert-scivocab-uncased\u0027, from_id, to_id)\n\ndisplay(HTML(f\u0027\u003ch3\u003eSeed: \u003ca href\u003d\"{from_doc[\"url\"]}\"\u003e{from_doc[\"title\"]}\u003c/a\u003e\u003c/h3\u003e\u0027))\ndisplay(HTML(f\u0027\u003ch3\u003eTarget: \u003ca href\u003d\"{to_doc[\"url\"]}\"\u003e{to_doc[\"title\"]}\u003c/a\u003e\u003c/h3\u003e\u0027))\ndisplay(HTML(f\u0027\u003ch4\u003ePredicted labels:\u003c/h4\u003e\u003cpre\u003e{\", \".join(pred_labels)}\u003c/pre\u003e\u0027))"
    }
  ],
  "metadata": {
    "kernelspec": {
      "display_name": "Python 3",
      "language": "python",
      "name": "python3"
    },
    "language_info": {
      "codemirror_mode": {
        "name": "ipython",
        "version": 3
      },
      "file_extension": ".py",
      "mimetype": "text/x-python",
      "name": "python",
      "nbconvert_exporter": "python",
      "pygments_lexer": "ipython3",
      "version": "3.7.4"
    }
  },
  "nbformat": 4,
  "nbformat_minor": 2
}